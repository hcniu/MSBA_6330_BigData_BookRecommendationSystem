{
 "cells": [
  {
   "cell_type": "code",
   "execution_count": 3,
   "id": "759515c8",
   "metadata": {},
   "outputs": [],
   "source": [
    "import pandas as pd\n",
    "from sklearn.neighbors import NearestNeighbors"
   ]
  },
  {
   "cell_type": "markdown",
   "id": "9c6746c3",
   "metadata": {},
   "source": [
    "# 1. Import data"
   ]
  },
  {
   "cell_type": "code",
   "execution_count": 38,
   "id": "cf24f70c",
   "metadata": {},
   "outputs": [],
   "source": [
    "df_all=pd.read_csv('s3://niu00056-msba6330/Final Project/BookRatings.csv',sep=';')\n",
    "df=df_all.iloc[:9000,:]"
   ]
  },
  {
   "cell_type": "markdown",
   "id": "d58d8d02",
   "metadata": {},
   "source": [
    "# 2. Tidy data into book rating format"
   ]
  },
  {
   "cell_type": "code",
   "execution_count": 39,
   "id": "c4a4a954",
   "metadata": {},
   "outputs": [],
   "source": [
    "df=df.pivot(index='ISBN',columns='User-ID',values='Rating')\n",
    "df[pd.isnull(df)]=0"
   ]
  },
  {
   "cell_type": "code",
   "execution_count": 40,
   "id": "07eb31f0",
   "metadata": {},
   "outputs": [],
   "source": [
    "df.columns=['user_'+str(i) for i in df.columns]\n",
    "df.index=['book_'+i for i in df.index]"
   ]
  },
  {
   "cell_type": "code",
   "execution_count": 41,
   "id": "69d74ec1",
   "metadata": {},
   "outputs": [],
   "source": [
    "df1=df.copy()"
   ]
  },
  {
   "cell_type": "markdown",
   "id": "348d0f5f",
   "metadata": {},
   "source": [
    "# 3. Recommender System"
   ]
  },
  {
   "cell_type": "code",
   "execution_count": 42,
   "id": "cdecabb3",
   "metadata": {},
   "outputs": [],
   "source": [
    "#Recommended Books\n",
    "def recommend_books(user, num_recommended_books):\n",
    "  print('The list of the Books {} Has Watched \\n'.format(user))\n",
    "  for m in df[df[user] > 0][user].index.tolist():\n",
    "    print(m)\n",
    "  print('\\n')\n",
    "  recommended_books = []\n",
    "  for m in df[df[user] == 0].index.tolist():\n",
    "    index_df = df.index.tolist().index(m)\n",
    "    predicted_rating = df1.iloc[index_df, df1.columns.tolist().index(user)]\n",
    "    recommended_books.append((m, predicted_rating))\n",
    "  sorted_rm = sorted(recommended_books, key=lambda x:x[1], reverse=True)\n",
    "  print('The list of the Recommended Books \\n')\n",
    "  rank = 1\n",
    "  for recommended_book in sorted_rm[:num_recommended_books]:\n",
    "    print('{}: {} - predicted rating:{}'.format(rank, recommended_book[0], recommended_book[1]))\n",
    "    rank = rank + 1"
   ]
  },
  {
   "cell_type": "code",
   "execution_count": 43,
   "id": "30df9bf3",
   "metadata": {},
   "outputs": [],
   "source": [
    "#Recommeder System\n",
    "# store the original dataset in 'df', and create the copy of df, df1 = df.copy().\n",
    "def book_recommender(user, num_neighbors, num_recommendation):\n",
    "  number_neighbors = num_neighbors\n",
    "\n",
    "  knn = NearestNeighbors(metric='cosine', algorithm='brute')\n",
    "  knn.fit(df.values)\n",
    "  distances, indices = knn.kneighbors(df.values, n_neighbors=number_neighbors)\n",
    "\n",
    "  user_index = df.columns.tolist().index(user)\n",
    "\n",
    "  for m,t in list(enumerate(df.index)):\n",
    "    if df.iloc[m, user_index] == 0:\n",
    "      sim_books = indices[m].tolist()\n",
    "      book_distances = distances[m].tolist()\n",
    "    \n",
    "      if m in sim_books:\n",
    "        id_book = sim_books.index(m)\n",
    "        sim_books.remove(m)\n",
    "        book_distances.pop(id_book) \n",
    "\n",
    "      else:\n",
    "        sim_books = sim_books[:num_neighbors-1]\n",
    "        book_distances = book_distances[:num_neighbors-1]\n",
    "           \n",
    "      book_similarity = [1-x for x in book_distances]\n",
    "      book_similarity_copy = book_similarity.copy()\n",
    "      nominator = 0\n",
    "\n",
    "      for s in range(0, len(book_similarity)):\n",
    "        if df.iloc[sim_books[s], user_index] == 0:\n",
    "          if len(book_similarity_copy) == (number_neighbors - 1):\n",
    "            book_similarity_copy.pop(s)\n",
    "          \n",
    "          else:\n",
    "            book_similarity_copy.pop(s-(len(book_similarity)-len(book_similarity_copy)))\n",
    "            \n",
    "        else:\n",
    "          nominator = nominator + book_similarity[s]*df.iloc[sim_books[s],user_index]\n",
    "          \n",
    "      if len(book_similarity_copy) > 0:\n",
    "        if sum(book_similarity_copy) > 0:\n",
    "          predicted_r = nominator/sum(book_similarity_copy)\n",
    "        \n",
    "        else:\n",
    "          predicted_r = 0\n",
    "\n",
    "      else:\n",
    "        predicted_r = 0\n",
    "        \n",
    "      df1.iloc[m,user_index] = predicted_r\n",
    "  recommend_books(user, num_recommendation)"
   ]
  },
  {
   "cell_type": "code",
   "execution_count": 45,
   "id": "2f978b4f",
   "metadata": {},
   "outputs": [
    {
     "name": "stdout",
     "output_type": "stream",
     "text": [
      "The list of the Books user_276729 Has Watched \n",
      "\n",
      "book_052165615X\n",
      "book_0521795028\n",
      "\n",
      "\n",
      "The list of the Recommended Books \n",
      "\n",
      "1: book_0002231115 - predicted rating:0.0\n",
      "2: book_0002232766 - predicted rating:0.0\n",
      "3: book_0002240114 - predicted rating:0.0\n"
     ]
    }
   ],
   "source": [
    "book_recommender('user_276729',3,3)"
   ]
  }
 ],
 "metadata": {
  "kernelspec": {
   "display_name": "conda_python3",
   "language": "python",
   "name": "conda_python3"
  },
  "language_info": {
   "codemirror_mode": {
    "name": "ipython",
    "version": 3
   },
   "file_extension": ".py",
   "mimetype": "text/x-python",
   "name": "python",
   "nbconvert_exporter": "python",
   "pygments_lexer": "ipython3",
   "version": "3.6.13"
  }
 },
 "nbformat": 4,
 "nbformat_minor": 5
}
